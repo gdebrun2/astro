{
 "cells": [
  {
   "cell_type": "markdown",
   "metadata": {
    "id": "HtDypeWBbnCD"
   },
   "source": [
    "# Classifying Galaxies"
   ]
  },
  {
   "cell_type": "markdown",
   "metadata": {
    "id": "B5KNEy1VbnCF"
   },
   "source": [
    "\n",
    "**Author:** Gavin DeBrun"
   ]
  },
  {
   "cell_type": "code",
   "execution_count": 1,
   "metadata": {
    "code_folding": [
     11
    ],
    "executionInfo": {
     "elapsed": 2480,
     "status": "ok",
     "timestamp": 1608706335666,
     "user": {
      "displayName": "Gavin Debrun",
      "photoUrl": "",
      "userId": "16932255542580517286"
     },
     "user_tz": 360
    },
    "id": "6am4C8vvbnCG"
   },
   "outputs": [],
   "source": [
    "import numpy as np\n",
    "import jax.numpy as jnp\n",
    "from jax import jit\n",
    "import  jax\n",
    "import matplotlib.pyplot as plt\n",
    "import math\n",
    "from matplotlib.animation import FuncAnimation\n",
    "import itertools\n",
    "from IPython.display import HTML\n",
    "import pickle\n",
    "import datetime;datetime.datetime.now()\n",
    "def resetMe(keepList=[]):\n",
    "    ll=%who_ls\n",
    "    keepList=keepList+['resetMe','np','plt','math','FuncAnimation',\n",
    "                       'HTML','itertools','pickle','testFunc','jnp','jax','jit']\n",
    "    for iiii in keepList:\n",
    "        if iiii in ll:\n",
    "            ll.remove(iiii)\n",
    "    for iiii in ll:\n",
    "        jjjj=\"^\"+iiii+\"$\"\n",
    "        %reset_selective -f {jjjj}\n",
    "    ll=%who_ls\n",
    "    return"
   ]
  },
  {
   "cell_type": "markdown",
   "metadata": {
    "id": "hoLz4NNPbnCN"
   },
   "source": [
    "## Machine Learning on Galaxies"
   ]
  },
  {
   "cell_type": "code",
   "execution_count": 2,
   "metadata": {
    "colab": {
     "base_uri": "https://localhost:8080/"
    },
    "executionInfo": {
     "elapsed": 6819,
     "status": "ok",
     "timestamp": 1608706340011,
     "user": {
      "displayName": "Gavin Debrun",
      "photoUrl": "",
      "userId": "16932255542580517286"
     },
     "user_tz": 360
    },
    "id": "w1B3L3pWbnCQ",
    "outputId": "2bb2988f-827a-41ec-bdea-db5c4ead83c3"
   },
   "outputs": [
    {
     "name": "stdout",
     "output_type": "stream",
     "text": [
      "--2021-02-28 18:29:05--  https://courses.physics.illinois.edu/phys246/fa2020/code/dataG.pkl.gz\n",
      "Resolving courses.physics.illinois.edu (courses.physics.illinois.edu)... 130.126.151.14\n",
      "Connecting to courses.physics.illinois.edu (courses.physics.illinois.edu)|130.126.151.14|:443... connected.\n",
      "HTTP request sent, awaiting response... 200 OK\n",
      "Length: 84647509 (81M) [application/x-gzip]\n",
      "Saving to: ‘dataG.pkl.gz’\n",
      "\n",
      "dataG.pkl.gz        100%[===================>]  80.73M  1.82MB/s    in 46s     \n",
      "\n",
      "2021-02-28 18:29:51 (1.77 MB/s) - ‘dataG.pkl.gz’ saved [84647509/84647509]\n",
      "\n"
     ]
    }
   ],
   "source": [
    "!wget https://courses.physics.illinois.edu/phys246/fa2020/code/dataG.pkl.gz"
   ]
  },
  {
   "cell_type": "code",
   "execution_count": 3,
   "metadata": {
    "colab": {
     "base_uri": "https://localhost:8080/"
    },
    "executionInfo": {
     "elapsed": 26883,
     "status": "ok",
     "timestamp": 1608706360080,
     "user": {
      "displayName": "Gavin Debrun",
      "photoUrl": "",
      "userId": "16932255542580517286"
     },
     "user_tz": 360
    },
    "id": "ey_qiZeQbnCV",
    "outputId": "097f16dc-3637-4a36-ac31-9598b1b20a2b"
   },
   "outputs": [
    {
     "name": "stdout",
     "output_type": "stream",
     "text": [
      "--2021-02-28 18:29:51--  https://courses.physics.illinois.edu/phys246/fa2020/code/data.pkl.zip\n",
      "Resolving courses.physics.illinois.edu (courses.physics.illinois.edu)... 130.126.151.14\n",
      "Connecting to courses.physics.illinois.edu (courses.physics.illinois.edu)|130.126.151.14|:443... connected.\n",
      "HTTP request sent, awaiting response... 200 OK\n",
      "Length: 299353957 (285M) [application/x-zip-compressed]\n",
      "Saving to: ‘data.pkl.zip’\n",
      "\n",
      "data.pkl.zip        100%[===================>] 285.49M  1.79MB/s    in 3m 16s  \n",
      "\n",
      "2021-02-28 18:33:07 (1.46 MB/s) - ‘data.pkl.zip’ saved [299353957/299353957]\n",
      "\n",
      "Archive:  data.pkl.zip\n",
      "  inflating: data.pkl                \n",
      "   creating: __MACOSX/\n",
      "  inflating: __MACOSX/._data.pkl     \n",
      "CPU times: user 3.97 s, sys: 2.17 s, total: 6.15 s\n",
      "Wall time: 3min 24s\n"
     ]
    }
   ],
   "source": [
    "%%time\n",
    "import gzip\n",
    "#(train_images_raw,train_labels,test_images_raw,test_labels) = pickle.load(gzip.open(\"dataG.pkl.gz\",'rb'))\n",
    "!wget https://courses.physics.illinois.edu/phys246/fa2020/code/data.pkl.zip\n",
    "!unzip data.pkl.zip\n",
    "(train_images_raw,train_labels,test_images_raw,test_labels) = pickle.load(open(\"data.pkl\",'rb'))"
   ]
  },
  {
   "cell_type": "markdown",
   "metadata": {
    "id": "D9iJyJKrbnCX"
   },
   "source": [
    "\n",
    "* `train_images_raw` - images in the training set, shape: (17457, 69, 69, 1)\n",
    "* `train_labels`     - labels that explain the image classification for the training set\n",
    "* `test_images_raw`  - images for the test set, shape: (1940,69,69,1)\n",
    "* `test_labels`      - labels that explain the image classification for the test set"
   ]
  },
  {
   "cell_type": "markdown",
   "metadata": {
    "id": "fzr40YBcbnCZ"
   },
   "source": [
    "### a. Galaxies"
   ]
  },
  {
   "cell_type": "code",
   "execution_count": 4,
   "metadata": {
    "colab": {
     "base_uri": "https://localhost:8080/",
     "height": 275
    },
    "executionInfo": {
     "elapsed": 26878,
     "status": "ok",
     "timestamp": 1608706360081,
     "user": {
      "displayName": "Gavin Debrun",
      "photoUrl": "",
      "userId": "16932255542580517286"
     },
     "user_tz": 360
    },
    "id": "rf53iNHSbnCb",
    "outputId": "6106d1e2-4664-4a2d-9488-e9ffc329f6c9"
   },
   "outputs": [
    {
     "data": {
      "image/png": "[encoded data removed]",
      "text/plain": [
       "<Figure size 288x288 with 1 Axes>"
      ]
     },
     "metadata": {
      "needs_background": "light"
     },
     "output_type": "display_data"
    }
   ],
   "source": [
    "plt.matshow(train_images_raw[0][:,:,0])\n",
    "plt.show()"
   ]
  },
  {
   "cell_type": "code",
   "execution_count": 5,
   "metadata": {
    "colab": {
     "base_uri": "https://localhost:8080/"
    },
    "executionInfo": {
     "elapsed": 26873,
     "status": "ok",
     "timestamp": 1608706360082,
     "user": {
      "displayName": "Gavin Debrun",
      "photoUrl": "",
      "userId": "16932255542580517286"
     },
     "user_tz": 360
    },
    "id": "UJP-KJ54bnCd",
    "outputId": "3fdb7f89-8249-462a-f70a-5cae9e2171d1"
   },
   "outputs": [
    {
     "name": "stdout",
     "output_type": "stream",
     "text": [
      "[0. 0. 1. 0. 0. 0. 0. 0. 0. 0.]\n"
     ]
    }
   ],
   "source": [
    "print(train_labels[0])"
   ]
  },
  {
   "cell_type": "markdown",
   "metadata": {
    "id": "rrRbEVTjbnCf"
   },
   "source": [
    "\n",
    "```\n",
    "Galaxy10 dataset (25753 images)\n",
    "├── *0* Class 0 (3461 images): Disk, Face-on, No Spiral\n",
    "├── *1* Class 1 (6997 images): Smooth, Completely round\n",
    "├── *2* Class 2 (6292 images): Smooth, in-between round\n",
    "├── Class 3 (394 images): Smooth, Cigar shaped\n",
    "├── *3* Class 4 (3060 images): Disk, Edge-on, Rounded Bulge\n",
    "├── Class 5 (17 images): Disk, Edge-on, Boxy Bulge\n",
    "├── Class 6 (1089 images): Disk, Edge-on, No Bulge\n",
    "├── *4* Class 7 (1932 images): Disk, Face-on, Tight Spiral\n",
    "├── Class 8 (1466 images): Disk, Face-on, Medium Spiral\n",
    "└── Class 9 (1045 images): Disk, Face-on, Loose Spiral\n",
    "```\n",
    "![Galaxy10 dataset](https://astronn.readthedocs.io/en/latest/_images/galaxy10_example.png)"
   ]
  },
  {
   "cell_type": "code",
   "execution_count": 6,
   "metadata": {
    "colab": {
     "base_uri": "https://localhost:8080/",
     "height": 292
    },
    "executionInfo": {
     "elapsed": 26868,
     "status": "ok",
     "timestamp": 1608706360082,
     "user": {
      "displayName": "Gavin Debrun",
      "photoUrl": "",
      "userId": "16932255542580517286"
     },
     "user_tz": 360
    },
    "id": "CksVsvOGbnCg",
    "outputId": "7b4cef56-a55a-47d7-e515-542ca2561ed0"
   },
   "outputs": [
    {
     "data": {
      "image/png": "[encoded data removed]",
      "text/plain": [
       "<Figure size 288x288 with 1 Axes>"
      ]
     },
     "metadata": {
      "needs_background": "light"
     },
     "output_type": "display_data"
    },
    {
     "name": "stdout",
     "output_type": "stream",
     "text": [
      "[1. 0. 0. 0. 0. 0. 0. 0. 0. 0.]\n"
     ]
    }
   ],
   "source": [
    "plt.matshow(train_images_raw[98][:,:,0])\n",
    "plt.show()\n",
    "print(train_labels[98])"
   ]
  },
  {
   "cell_type": "code",
   "execution_count": 7,
   "metadata": {
    "colab": {
     "base_uri": "https://localhost:8080/"
    },
    "executionInfo": {
     "elapsed": 26993,
     "status": "ok",
     "timestamp": 1608706360212,
     "user": {
      "displayName": "Gavin Debrun",
      "photoUrl": "",
      "userId": "16932255542580517286"
     },
     "user_tz": 360
    },
    "id": "xEh89fkpbnCi",
    "outputId": "0c6989b8-d0b0-4d51-fad0-7454a9daa88b"
   },
   "outputs": [
    {
     "name": "stdout",
     "output_type": "stream",
     "text": [
      "(19606, 69, 69, 3)\n"
     ]
    }
   ],
   "source": [
    "print(np.shape(train_images_raw))"
   ]
  },
  {
   "cell_type": "code",
   "execution_count": 8,
   "metadata": {
    "executionInfo": {
     "elapsed": 26990,
     "status": "ok",
     "timestamp": 1608706360213,
     "user": {
      "displayName": "Gavin Debrun",
      "photoUrl": "",
      "userId": "16932255542580517286"
     },
     "user_tz": 360
    },
    "id": "Ekk3l2zjbnCl"
   },
   "outputs": [],
   "source": [
    "train_images=train_images_raw.reshape(len(train_images_raw),69*69*3)\n",
    "train_images /= 256\n",
    "\n",
    "test_images = test_images_raw.reshape(len(test_images_raw), 69*69*3)\n",
    "test_images /= 256"
   ]
  },
  {
   "cell_type": "markdown",
   "metadata": {
    "id": "SMFvFr9NbnCn"
   },
   "source": [
    "### b. Neural Network"
   ]
  },
  {
   "cell_type": "code",
   "execution_count": 9,
   "metadata": {
    "colab": {
     "base_uri": "https://localhost:8080/"
    },
    "executionInfo": {
     "elapsed": 29039,
     "status": "ok",
     "timestamp": 1608706362266,
     "user": {
      "displayName": "Gavin Debrun",
      "photoUrl": "",
      "userId": "16932255542580517286"
     },
     "user_tz": 360
    },
    "id": "JRuI6jypbnCo",
    "outputId": "e17b32c0-1b84-4ed8-ad14-c5fab14bb128"
   },
   "outputs": [
    {
     "name": "stdout",
     "output_type": "stream",
     "text": [
      "output vector: [0.4548924  0.44674426 0.9022572  0.41935694 0.16386952 0.08757319\n",
      " 0.24857341 0.28029463 0.27153912 0.30566087] classification number: 2\n"
     ]
    },
    {
     "name": "stderr",
     "output_type": "stream",
     "text": [
      "/Users/gavin/opt/anaconda3/lib/python3.8/site-packages/jax/lib/xla_bridge.py:130: UserWarning: No GPU/TPU found, falling back to CPU.\n",
      "  warnings.warn('No GPU/TPU found, falling back to CPU.')\n"
     ]
    }
   ],
   "source": [
    "params = dict()\n",
    "d = 100\n",
    "params[\"W1\"] = .1*np.random.randn(d, 69*69*3)\n",
    "params[\"W2\"] = .1*np.random.randn(10,d)\n",
    "params[\"b1\"] = .1*np.random.randn(d)\n",
    "params[\"b2\"] = .1*np.random.rand(10)\n",
    "\n",
    "def net(params, imageVector):\n",
    "  W1=params[\"W1\"]\n",
    "  b1=params[\"b1\"]\n",
    "  W2= params[\"W2\"]\n",
    "  b2 = params[\"b2\"]\n",
    "  output = 1.0 / (1.0 + jnp.exp(-(W2 @ jnp.tanh(W1 @ imageVector + b1) + b2)))\n",
    "  return output\n",
    "\n",
    "print(\"output vector:\", net(params, train_images[3]), \"classification number:\", np.argmax(net(params, train_images[3])))"
   ]
  },
  {
   "cell_type": "markdown",
   "metadata": {
    "id": "AGkcaF5_bnCq"
   },
   "source": [
    "### c. A measure of goodness"
   ]
  },
  {
   "cell_type": "code",
   "execution_count": 10,
   "metadata": {
    "colab": {
     "base_uri": "https://localhost:8080/"
    },
    "executionInfo": {
     "elapsed": 29186,
     "status": "ok",
     "timestamp": 1608706362420,
     "user": {
      "displayName": "Gavin Debrun",
      "photoUrl": "",
      "userId": "16932255542580517286"
     },
     "user_tz": 360
    },
    "id": "_wvYdNJobnCr",
    "outputId": "125c8757-45c0-46ee-f597-57a3a6864197"
   },
   "outputs": [
    {
     "name": "stdout",
     "output_type": "stream",
     "text": [
      "4.936081\n"
     ]
    }
   ],
   "source": [
    "@jit\n",
    "def loss(params, imageVector, correctLabel):\n",
    "  networkLabel = net(params, imageVector)\n",
    "  cross_entropy = jnp.sum(-correctLabel * jnp.log(networkLabel) - (1.0 - correctLabel) * jnp.log( 1.0 - networkLabel))\n",
    "  return cross_entropy\n",
    "\n",
    "i = 0\n",
    "print(loss(params, train_images[i], train_labels[i]))"
   ]
  },
  {
   "cell_type": "code",
   "execution_count": 11,
   "metadata": {
    "colab": {
     "base_uri": "https://localhost:8080/"
    },
    "executionInfo": {
     "elapsed": 37970,
     "status": "ok",
     "timestamp": 1608706371209,
     "user": {
      "displayName": "Gavin Debrun",
      "photoUrl": "",
      "userId": "16932255542580517286"
     },
     "user_tz": 360
    },
    "id": "HcXvx4LpbnCt",
    "outputId": "282905f9-039f-4b18-8cbf-6097c0fc638c"
   },
   "outputs": [
    {
     "name": "stdout",
     "output_type": "stream",
     "text": [
      "0.2588343276732446\n"
     ]
    }
   ],
   "source": [
    "def fractionCorrect(params, images, labels):\n",
    "  numberCorrect = 0\n",
    "  for i in range(len(images)):\n",
    "    networkLabel = np.argmax(net(params, images[i]))\n",
    "    if networkLabel == np.argmax(labels[i]):\n",
    "      numberCorrect += 1\n",
    "  return numberCorrect / len(images)\n",
    "print(fractionCorrect(params,test_images,test_labels))"
   ]
  },
  {
   "cell_type": "markdown",
   "metadata": {
    "id": "AP4P3BjNbnCv"
   },
   "source": [
    "### d. Classification"
   ]
  },
  {
   "cell_type": "code",
   "execution_count": 13,
   "metadata": {
    "colab": {
     "base_uri": "https://localhost:8080/"
    },
    "executionInfo": {
     "elapsed": 1264251,
     "status": "ok",
     "timestamp": 1608707643166,
     "user": {
      "displayName": "Gavin Debrun",
      "photoUrl": "",
      "userId": "16932255542580517286"
     },
     "user_tz": 360
    },
    "id": "uyr0vjcnbnCv",
    "outputId": "7a602136-bb50-403e-e4ff-c9e770c7543c",
    "scrolled": true
   },
   "outputs": [
    {
     "name": "stdout",
     "output_type": "stream",
     "text": [
      "CPU times: user 26min 13s, sys: 4min 36s, total: 30min 50s\n",
      "Wall time: 11min 42s\n"
     ]
    }
   ],
   "source": [
    "%%time\n",
    "d = 100\n",
    "n = 100*2000\n",
    "params = dict()\n",
    "params[\"W1\"] = .1*np.random.randn(d, 69*69*3)\n",
    "params[\"W2\"] = .1*np.random.randn(10,d)\n",
    "params[\"b1\"] = .1*np.random.randn(d)\n",
    "params[\"b2\"] = .1*np.random.rand(10)\n",
    "\n",
    "loss_grad = jit(jax.grad(jit(loss)))\n",
    "accuracy = []\n",
    "steps = []\n",
    "for i in range(n):\n",
    "  imageIndex = np.random.randint(0, len(train_images))\n",
    "  gradient = loss_grad(params, train_images[imageIndex], train_labels[imageIndex])\n",
    "  params[\"W1\"] += -.001*gradient[\"W1\"]\n",
    "  params[\"W2\"] += -.001*gradient[\"W2\"]\n",
    "  params[\"b1\"] += -.001*gradient[\"b1\"]\n",
    "  params[\"b2\"] += -.001*gradient[\"b2\"]\n",
    "  if i % 2000 == 0:\n",
    "    accuracy.append(fractionCorrect(params, test_images, test_labels))\n",
    "    steps.append(i)"
   ]
  },
  {
   "cell_type": "code",
   "execution_count": 14,
   "metadata": {
    "colab": {
     "base_uri": "https://localhost:8080/",
     "height": 332
    },
    "executionInfo": {
     "elapsed": 474,
     "status": "ok",
     "timestamp": 1608708294092,
     "user": {
      "displayName": "Gavin Debrun",
      "photoUrl": "",
      "userId": "16932255542580517286"
     },
     "user_tz": 360
    },
    "id": "_nuNQwC6bnCx",
    "outputId": "83c050e5-2be1-4732-b5fc-4ec26e79c1ac"
   },
   "outputs": [
    {
     "data": {
      "image/png": "[encoded data removed]",
      "text/plain": [
       "<Figure size 432x288 with 1 Axes>"
      ]
     },
     "metadata": {
      "needs_background": "light"
     },
     "output_type": "display_data"
    }
   ],
   "source": [
    "plt.plot(steps, accuracy)\n",
    "plt.xlabel(\"Number of Steps\")\n",
    "plt.ylabel(\"Fraction Correct\")\n",
    "plt.title(\"Fraction of Correct Classifications Versus Number of Training Steps\")\n",
    "plt.show()"
   ]
  },
  {
   "cell_type": "markdown",
   "metadata": {
    "id": "34cPl2hHbnCy"
   },
   "source": [
    "### e.  Mini-batches and vmap "
   ]
  },
  {
   "cell_type": "code",
   "execution_count": null,
   "metadata": {
    "colab": {
     "base_uri": "https://localhost:8080/",
     "height": 329
    },
    "executionInfo": {
     "elapsed": 78937,
     "status": "ok",
     "timestamp": 1605211906283,
     "user": {
      "displayName": "Gavin Debrun",
      "photoUrl": "",
      "userId": "16932255542580517286"
     },
     "user_tz": 360
    },
    "id": "3sSLmhBfbnCz",
    "outputId": "654b8d06-7a5e-4eca-a130-c1844dacd5c0"
   },
   "outputs": [
    {
     "data": {
      "image/png": "[encoded data removed]",
      "text/plain": [
       "<Figure size 432x288 with 1 Axes>"
      ]
     },
     "metadata": {
      "needs_background": "light",
      "tags": []
     },
     "output_type": "display_data"
    },
    {
     "name": "stdout",
     "output_type": "stream",
     "text": [
      "CPU times: user 1min 26s, sys: 17.8 s, total: 1min 44s\n",
      "Wall time: 1min 18s\n"
     ]
    }
   ],
   "source": [
    "%%time\n",
    "\n",
    "d = 100\n",
    "params = dict()\n",
    "params[\"W1\"] = .1*np.random.randn(d, 69*69)\n",
    "params[\"W2\"] = .1*np.random.randn(5,d)\n",
    "params[\"b1\"] = .1*np.random.randn(d)\n",
    "params[\"b2\"] = .1*np.random.rand(5)\n",
    "\n",
    "def miniBatch(images, labels, batchSize):\n",
    "  W1_grad = jnp.zeros([d,69*69])\n",
    "  W2_grad = jnp.zeros([5,d])\n",
    "  b1_grad = jnp.array([d])\n",
    "  b2_grad = jnp.array([5])\n",
    "  for i in range(batchSize):\n",
    "    imageIndex = np.random.randint(0,len(images))\n",
    "    grad = loss_grad(params, images[imageIndex], labels[imageIndex])\n",
    "    W1_grad += grad[\"W1\"]\n",
    "    W2_grad += grad[\"W2\"]\n",
    "    b1_grad += grad[\"b1\"]\n",
    "    b2_grad += grad[\"b2\"]\n",
    "  return W1_grad/batchSize, W2_grad/batchSize, b1_grad/batchSize, b2_grad/batchSize\n",
    "\n",
    "accuracy = []\n",
    "steps = []\n",
    "loss_grad = jit(jax.grad(jit(loss)))\n",
    "\n",
    "for i in range(40):\n",
    "  gradient = miniBatch(train_images, train_labels, 10)\n",
    "  params[\"W1\"] += -.001*gradient[0]\n",
    "  params[\"W2\"] += -.001*gradient[1]\n",
    "  params[\"b1\"] += -.001*gradient[2]\n",
    "  params[\"b2\"] += -.001*gradient[3]\n",
    "  if i % 2 == 0:\n",
    "    accuracy.append(fractionCorrect(params, test_images, test_labels))\n",
    "    steps.append(i)\n",
    "\n",
    "plt.plot(steps, accuracy)\n",
    "plt.xlabel(\"Number of Steps\")\n",
    "plt.ylabel(\"Fraction Correct\")\n",
    "plt.title(\"Fraction of Correct Classifications Versus Number of Training Steps Using Minibatches\")\n",
    "plt.show()"
   ]
  },
  {
   "cell_type": "code",
   "execution_count": null,
   "metadata": {
    "id": "-sCw7O7jbnC0"
   },
   "outputs": [],
   "source": [
    "%%time\n",
    "\n",
    "def net(params, imageVector):\n",
    "  W1=params[0]\n",
    "  b1=params[2]\n",
    "  W2= params[1]\n",
    "  b2 = params[3]\n",
    "  output = 1.0 / (1.0 + jnp.exp(-(W2 @ jnp.tanh(W1 @ imageVector + b1) + b2)))\n",
    "  return output\n",
    "\n",
    "\n",
    "\n",
    "loss_grad = jax.jit(jax.vmap(jax.grad(loss), in_axes=( None, 0, 0), out_axes=0))\n",
    "d = 100\n",
    "learning_rate = .001\n",
    "params = dict()\n",
    "params[\"W1\"] = .1*np.random.randn(d, 69*69)\n",
    "params[\"W2\"] = .1*np.random.randn(5,d)\n",
    "params[\"b1\"] = .1*np.random.randn(d)\n",
    "params[\"b2\"] = .1*np.random.rand(5)\n",
    "batchSize = 10\n",
    "accuracy = []\n",
    "steps = []\n",
    "params = [params[\"W1\"], params[\"W2\"], params[\"b1\"], params[\"b2\"]]\n",
    "for i in range(10*200):\n",
    "  batchIndices = np.random.randint(0, len(train_images), size = batchSize)\n",
    "  #imageBatch = [train_images[i] for i in batchIndices]\n",
    "  imageBatch = train_images[batchIndices]\n",
    "  #labelBatch = [train_labels[i] for i in batchIndices]\n",
    "  labelBatch = train_labels[batchIndices]\n",
    "  grads = loss_grad(params, imageBatch, labelBatch)\n",
    "\n",
    "  params = [param - learning_rate * np.mean(grad, axis=0)\n",
    "              for param, grad in zip(params, grads)]\n",
    "\n",
    "  if i % 200 == 0:\n",
    "    accuracy.append(fractionCorrect(params, test_images, test_labels))\n",
    "    steps.append(i)\n",
    "\n",
    "\n",
    "plt.plot(steps, accuracy)\n",
    "plt.xlabel(\"Number of Steps\")\n",
    "plt.ylabel(\"Fraction Correct\")\n",
    "plt.title(\"Fraction of Correct Classifications Versus Number of Training Steps Using VMap\")\n",
    "plt.show()"
   ]
  },
  {
   "cell_type": "markdown",
   "metadata": {
    "id": "TAoTiitsbnC2"
   },
   "source": [
    "### Train and Optimize"
   ]
  },
  {
   "cell_type": "code",
   "execution_count": null,
   "metadata": {
    "colab": {
     "base_uri": "https://localhost:8080/",
     "height": 635
    },
    "executionInfo": {
     "elapsed": 333544,
     "status": "ok",
     "timestamp": 1605219132648,
     "user": {
      "displayName": "Gavin Debrun",
      "photoUrl": "",
      "userId": "16932255542580517286"
     },
     "user_tz": 360
    },
    "id": "BhWQjU6-bnC2",
    "outputId": "cfd8b953-8191-444b-8475-bef168ca317b"
   },
   "outputs": [
    {
     "name": "stdout",
     "output_type": "stream",
     "text": [
      "--2020-11-12 21:58:07--  https://courses.physics.illinois.edu/phys246/fa2020/code/data.pkl.zip\n",
      "Resolving courses.physics.illinois.edu (courses.physics.illinois.edu)... 130.126.151.14\n",
      "Connecting to courses.physics.illinois.edu (courses.physics.illinois.edu)|130.126.151.14|:443... connected.\n",
      "HTTP request sent, awaiting response... 200 OK\n",
      "Length: 299353957 (285M) [application/x-zip-compressed]\n",
      "Saving to: ‘data.pkl.zip.2’\n",
      "\n",
      "data.pkl.zip.2      100%[===================>] 285.49M  44.5MB/s    in 7.3s    \n",
      "\n",
      "2020-11-12 21:58:15 (39.0 MB/s) - ‘data.pkl.zip.2’ saved [299353957/299353957]\n",
      "\n",
      "Archive:  data.pkl.zip\n",
      "replace data.pkl? [y]es, [n]o, [A]ll, [N]one, [r]ename: y\n",
      "  inflating: data.pkl                \n",
      "replace __MACOSX/._data.pkl? [y]es, [n]o, [A]ll, [N]one, [r]ename: a\n",
      "error:  invalid response [a]\n",
      "replace __MACOSX/._data.pkl? [y]es, [n]o, [A]ll, [N]one, [r]ename: y\n",
      "  inflating: __MACOSX/._data.pkl     \n"
     ]
    },
    {
     "data": {
      "image/png": "[encoded data removed]",
      "text/plain": [
       "<Figure size 432x288 with 1 Axes>"
      ]
     },
     "metadata": {
      "needs_background": "light",
      "tags": []
     },
     "output_type": "display_data"
    },
    {
     "name": "stdout",
     "output_type": "stream",
     "text": [
      "CPU times: user 19min 41s, sys: 2min 38s, total: 22min 19s\n",
      "Wall time: 14min 4s\n"
     ]
    }
   ],
   "source": [
    "%%time\n",
    "\n",
    "def net(params, imageVector):\n",
    "  W1=params[\"W1\"]\n",
    "  b1=params[\"b1\"]\n",
    "  W2= params[\"W2\"]\n",
    "  b2 = params[\"b2\"]\n",
    "  output = 1.0 / (1.0 + jnp.exp(-(W2 @ jnp.tanh(W1 @ imageVector + b1) + b2)))\n",
    "  return output\n",
    "\n",
    "  \n",
    "!wget https://courses.physics.illinois.edu/phys246/fa2020/code/data.pkl.zip\n",
    "!unzip data.pkl.zip\n",
    "(train_images_raw,train_labels,test_images_raw,test_labels) = pickle.load(open(\"data.pkl\",'rb'))\n",
    "\n",
    "train_images=train_images_raw.reshape(len(train_images_raw),69*69*3)\n",
    "train_images /= 256\n",
    "\n",
    "test_images = test_images_raw.reshape(len(test_images_raw), 69*69*3)\n",
    "test_images /= 256\n",
    "\n",
    "d = 100\n",
    "params = dict()\n",
    "params[\"W1\"] = .1*np.random.randn(d, 69*69*3)\n",
    "params[\"W2\"] = .1*np.random.randn(10,d)\n",
    "params[\"b1\"] = .1*np.random.randn(d)\n",
    "params[\"b2\"] = .1*np.random.rand(10)\n",
    "\n",
    "loss_grad = jit(jax.grad(jit(loss)))\n",
    "accuracy = []\n",
    "steps = []\n",
    "for i in range(50*2000):\n",
    "  imageIndex = np.random.randint(0, len(train_images))\n",
    "  gradient = loss_grad(params, train_images[imageIndex], train_labels[imageIndex])\n",
    "  params[\"W1\"] += -.001*gradient[\"W1\"]\n",
    "  params[\"W2\"] += -.001*gradient[\"W2\"]\n",
    "  params[\"b1\"] += -.001*gradient[\"b1\"]\n",
    "  params[\"b2\"] += -.001*gradient[\"b2\"]\n",
    "  if i % 2000 == 0:\n",
    "    accuracy.append(fractionCorrect(params, test_images, test_labels))\n",
    "    steps.append(i)\n",
    "\n",
    "plt.plot(steps, accuracy)\n",
    "plt.xlabel(\"Number of Steps\")\n",
    "plt.ylabel(\"Fraction Correct\")\n",
    "plt.title(\"Fraction of Correct Classifications Versus Number of Training Steps\")\n",
    "plt.show()"
   ]
  }
 ],
 "metadata": {
  "accelerator": "GPU",
  "colab": {
   "collapsed_sections": [
    "dcAthJuTbnC2"
   ],
   "name": "MachineLearningGalaxies.ipynb",
   "provenance": []
  },
  "kernelspec": {
   "display_name": "Python 3",
   "language": "python",
   "name": "python3"
  },
  "language_info": {
   "codemirror_mode": {
    "name": "ipython",
    "version": 3
   },
   "file_extension": ".py",
   "mimetype": "text/x-python",
   "name": "python",
   "nbconvert_exporter": "python",
   "pygments_lexer": "ipython3",
   "version": "3.8.3"
  },
  "varInspector": {
   "cols": {
    "lenName": 16,
    "lenType": 16,
    "lenVar": 40
   },
   "kernels_config": {
    "python": {
     "delete_cmd_postfix": "",
     "delete_cmd_prefix": "del ",
     "library": "var_list.py",
     "varRefreshCmd": "print(var_dic_list())"
    },
    "r": {
     "delete_cmd_postfix": ") ",
     "delete_cmd_prefix": "rm(",
     "library": "var_list.r",
     "varRefreshCmd": "cat(var_dic_list()) "
    }
   },
   "types_to_exclude": [
    "module",
    "function",
    "builtin_function_or_method",
    "instance",
    "_Feature"
   ],
   "window_display": false
  }
 },
 "nbformat": 4,
 "nbformat_minor": 4
}
