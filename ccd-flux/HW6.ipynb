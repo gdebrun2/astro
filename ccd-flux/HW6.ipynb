{
 "cells": [
  {
   "attachments": {},
   "cell_type": "markdown",
   "metadata": {},
   "source": [
    "\n",
    "### 1) {-}\n",
    "\n",
    "I used an aperature of (X, Y) = (847, 1080) pixels, or a centroid of (RA, DEC) = (84.556774, -50.512676) degrees with a radius of 15 pixels.\n",
    "\n",
    "The resulting flux is 34861000 $\\mu J$ "
   ]
  },
  {
   "attachments": {},
   "cell_type": "markdown",
   "metadata": {},
   "source": [
    "### 4) {-}\n",
    "\n",
    "$DQE = (\\frac{SN_{out}}{SN_{IN}})^{2}$\n",
    "\n",
    "$SN_{in} = \\sqrt{1000} = 31.62$\n",
    "\n",
    "$SN_{out} = \\frac{1000}{\\sqrt{1000 + 2.7 + 1000}} = 22.34$\n",
    "\n",
    "$\\boxed{DQE_{1000} = .50}$\n",
    "\n",
    "$\\boxed{DQE_{400} = \\frac{20}{19.95} = .995}$"
   ]
  },
  {
   "attachments": {},
   "cell_type": "markdown",
   "metadata": {},
   "source": [
    "### 6) {-}\n",
    "\n",
    "$T = \\frac{Nrows \\times (Ncols) + Nrows}{f}$\n",
    "\n",
    "$T = \\frac{8193 \\times 8192}{25,000} = 2684.7s$"
   ]
  },
  {
   "attachments": {},
   "cell_type": "markdown",
   "metadata": {},
   "source": [
    "### 8a) {-}\n",
    "\n",
    "$d_{233} = 10^{5} \\times \\frac{233}{300}e^{\\frac{E}{2k_{B}}(\\frac{1}{233} - \\frac{1}{300})}$ where E is the band gap of silicon equaling 1.12ev\n",
    "\n",
    "$d_{233} = 150$ electrons per second"
   ]
  },
  {
   "attachments": {},
   "cell_type": "markdown",
   "metadata": {},
   "source": [
    "### 8b) {-}\n",
    " \n",
    "$10 = 10^{5}\\cdot 2^{(T - 300)/6.5}$ where 6.5 degrees is approximately the doubling temperature of CCDs\n",
    "\n",
    "$T = log_{2}(10^{-4}) \\cdot 6.5 + 300 = 213 K$"
   ]
  },
  {
   "cell_type": "markdown",
   "metadata": {},
   "source": []
  }
 ],
 "metadata": {
  "kernelspec": {
   "display_name": "base",
   "language": "python",
   "name": "python3"
  },
  "language_info": {
   "codemirror_mode": {
    "name": "ipython",
    "version": 3
   },
   "file_extension": ".py",
   "mimetype": "text/x-python",
   "name": "python",
   "nbconvert_exporter": "python",
   "pygments_lexer": "ipython3",
   "version": "3.9.15"
  },
  "orig_nbformat": 4
 },
 "nbformat": 4,
 "nbformat_minor": 2
}
